{
 "cells": [
  {
   "cell_type": "markdown",
   "metadata": {},
   "source": [
    "# Basics\n"
   ]
  },
  {
   "cell_type": "code",
   "execution_count": 2,
   "metadata": {},
   "outputs": [],
   "source": [
    "import cv2 as cv\n",
    "import numpy as np"
   ]
  },
  {
   "cell_type": "markdown",
   "metadata": {},
   "source": [
    "## Reading images and videos"
   ]
  },
  {
   "cell_type": "markdown",
   "metadata": {},
   "source": [
    "Read images"
   ]
  },
  {
   "cell_type": "code",
   "execution_count": 2,
   "metadata": {},
   "outputs": [
    {
     "data": {
      "text/plain": [
       "-1"
      ]
     },
     "execution_count": 2,
     "metadata": {},
     "output_type": "execute_result"
    }
   ],
   "source": [
    "# load\n",
    "image = cv.imread('Resources/Photos/cat.jpg')\n",
    "\n",
    "# display\n",
    "cv.imshow('Cat',image) # window name and image as argument\n",
    "\n",
    "# wait time for a key to be press\n",
    "cv.waitKey(0)"
   ]
  },
  {
   "cell_type": "markdown",
   "metadata": {},
   "source": [
    "Read videos\n",
    "\n",
    "VideoCapture(arg) : arg can be a path to a file or the number of your device (0 is for internal webcam for example)\n",
    "If no more frame, error -215"
   ]
  },
  {
   "cell_type": "code",
   "execution_count": null,
   "metadata": {},
   "outputs": [],
   "source": [
    "#load\n",
    "capture = cv.VideoCapture('Resources/Videos/dog.mp4')\n",
    "\n",
    "# read frame by frame\n",
    "while True :\n",
    "    isTrue, frame = capture.read()\n",
    "    cv.imshow('Video',frame)\n",
    "    # quitt if push d\n",
    "    if cv.waitKey(20) & 0xFF==ord('d'):\n",
    "        break\n",
    "\n",
    "# close \n",
    "capture.release()\n",
    "cv.destroyAllWindows()"
   ]
  },
  {
   "cell_type": "markdown",
   "metadata": {},
   "source": [
    "# Resizing and rescaling frames\n",
    "\n",
    "Useful functions"
   ]
  },
  {
   "cell_type": "code",
   "execution_count": 4,
   "metadata": {},
   "outputs": [],
   "source": [
    "def rescaleframe(frame,scale=0.75):\n",
    "    # works for image,frame and video\n",
    "    width = int(frame.shape[1]*scale)\n",
    "    heigth = int(frame.shape[0]*scale)\n",
    "    dimensions = (width,heigth)\n",
    "    return cv.resize(frame,dimensions,interpolation = cv.INTER_AREA)\n",
    "\n",
    "def changeResolution(width,heigth):\n",
    "    # only works for video\n",
    "    capture.set(3,width)\n",
    "    capture.set(4,heigth)"
   ]
  },
  {
   "cell_type": "markdown",
   "metadata": {},
   "source": [
    "Resizing"
   ]
  },
  {
   "cell_type": "code",
   "execution_count": 3,
   "metadata": {},
   "outputs": [
    {
     "data": {
      "text/plain": [
       "-1"
      ]
     },
     "execution_count": 3,
     "metadata": {},
     "output_type": "execute_result"
    }
   ],
   "source": [
    "#load\n",
    "capture = cv.VideoCapture('Resources/Videos/dog.mp4')\n",
    "\n",
    "# read frame by frame\n",
    "while True :\n",
    "    isTrue, frame = capture.read()\n",
    "    frame_resized = rescaleframe(frame)\n",
    "    cv.imshow('Video',frame)\n",
    "    cv.imshow('Video Resized',frame_resized)\n",
    "    # quitt if push d\n",
    "    if cv.waitKey(20) & 0xFF==ord('d'):\n",
    "        break\n",
    "\n",
    "# load\n",
    "image = cv.imread('Resources/Photos/.jpg')\n",
    "image_resized = rescaleframe(image)\n",
    "\n",
    "# display\n",
    "cv.imshow('Cat',image) # window name and image as argument\n",
    "cv.imshow('Cat resized',image_resized)\n",
    "# wait time for a key to be press\n",
    "cv.waitKey(0)"
   ]
  },
  {
   "cell_type": "markdown",
   "metadata": {},
   "source": [
    "Rescaling"
   ]
  },
  {
   "cell_type": "code",
   "execution_count": null,
   "metadata": {},
   "outputs": [],
   "source": [
    "# #load\n",
    "capture = cv.VideoCapture('Resources/Videos/dog.mp4')\n",
    "\n",
    "# rescale\n",
    "changeResolution(200,300)\n",
    "\n",
    "# read frame by frame\n",
    "while True :\n",
    "    isTrue, frame = capture.read()\n",
    "    # frame_resized = rescaleframe(frame)\n",
    "    cv.imshow('Video',frame)\n",
    "    # cv.imshow('Video Resized',frame_resized)\n",
    "    # quitt if push d\n",
    "    if cv.waitKey(20) & 0xFF==ord('d'):\n",
    "        break"
   ]
  },
  {
   "cell_type": "markdown",
   "metadata": {},
   "source": [
    "## Drawing shapes and putting text"
   ]
  },
  {
   "cell_type": "code",
   "execution_count": 17,
   "metadata": {},
   "outputs": [
    {
     "data": {
      "text/plain": [
       "-1"
      ]
     },
     "execution_count": 17,
     "metadata": {},
     "output_type": "execute_result"
    }
   ],
   "source": [
    "# blank image\n",
    "blank = np.zeros((500,500,3),dtype='uint8') # dimension = (width,heigth,number of color)\n",
    "\n",
    "# 1. Paint part the image of a certain color\n",
    "blank[200:300,300:400] = 0,0,255\n",
    "\n",
    "# 2. draw a rectangle (image,top left , bottom rigth, color, thickness  ) \n",
    "cv.rectangle(blank,pt1=(0,0),pt2 = (250,250),color = (0,255,0), thickness =2) # possible thickness = cv.FILLED to color the entire rectangle\n",
    "\n",
    "# 3. draw a circle\n",
    "cv.circle(blank,center = (blank.shape[1]//2,blank.shape[0]//2),radius = 40, color = (0,0,255), thickness = 2)\n",
    "\n",
    "# 4. draw line\n",
    "cv.line(blank, pt1 = (0,0),pt2 = (blank.shape[1]//2,blank.shape[0]//2),color = (0,255,0), thickness =2)\n",
    "\n",
    "# 5. write text\n",
    "cv.putText(blank,'Hello',(225,225),cv.FONT_HERSHEY_COMPLEX,1.0,(255,0,0),thickness = 2)\n",
    "#  display \n",
    "cv.imshow('Blank',blank) # window name and image as argument\n",
    "\n",
    "# wait time for a key to be press\n",
    "cv.waitKey(0)"
   ]
  },
  {
   "cell_type": "markdown",
   "metadata": {},
   "source": [
    "# Essentials functions in OCV"
   ]
  },
  {
   "cell_type": "code",
   "execution_count": 6,
   "metadata": {},
   "outputs": [
    {
     "data": {
      "text/plain": [
       "-1"
      ]
     },
     "execution_count": 6,
     "metadata": {},
     "output_type": "execute_result"
    }
   ],
   "source": [
    "# load image\n",
    "image = cv.imread('Resources/Photos/park.jpg')\n",
    "\n",
    "\n",
    "# 1. converting image to grey scale\n",
    "grey = cv.cvtColor(image,cv.COLOR_BGR2GRAY) # possible to do BGR2RGB\n",
    "\n",
    "# 2. blur (remove noise from an image)\n",
    "blur = cv.GaussianBlur(image,ksize = (7,7),sigmaX = cv.BORDER_DEFAULT)\n",
    "\n",
    "# 3. Edge Cascade \n",
    "canny = cv.Canny(blur, 125 , 175 )\n",
    "\n",
    "# 4. Dilating the image\n",
    "dilated = cv.dilate(canny,(3,3),iterations = 1)\n",
    "\n",
    "# 5. Erroding (inverse process of dilating)\n",
    "eroded = cv.erode(dilated,(3,3),iterations = 1)\n",
    "\n",
    "# 6. resizing\n",
    "resized = cv.resize(image,dsize = (500,500),interpolation = cv.INTER_AREA) # INTER_AREA for downsizing the image, INTER_LINEAR to upsize\n",
    "\n",
    "# 7. cropping\n",
    "cropped = image[50:200,200,400]\n",
    "\n",
    "# display\n",
    "cv.imshow('Park',image) # window name and image as argument\n",
    "# cv.imshow('Park Grey',grey)\n",
    "# cv.imshow('Park Blur',blur) \n",
    "# cv.imshow('Park Edge',canny) \n",
    "# cv.imshow('Park Dilate',dilated) \n",
    "# cv.imshow('Park Errode',eroded) \n",
    "# cv.imshow('Park Resize',resized) \n",
    "# cv.imshow('Park Croppe',cropped) \n",
    "\n",
    "# wait time for a key to be press\n",
    "cv.waitKey(0)"
   ]
  },
  {
   "cell_type": "markdown",
   "metadata": {},
   "source": [
    "## Image Transformations"
   ]
  },
  {
   "cell_type": "code",
   "execution_count": 11,
   "metadata": {},
   "outputs": [
    {
     "data": {
      "text/plain": [
       "-1"
      ]
     },
     "execution_count": 11,
     "metadata": {},
     "output_type": "execute_result"
    }
   ],
   "source": [
    "# load image\n",
    "image = cv.imread('Resources/Photos/park.jpg')\n",
    "\n",
    "# 1. translation\n",
    "def translate(image,x,y):\n",
    "    transMat = np.float32([[1,0,x],[0,1,y]])\n",
    "    dimensions = (image.shape[1],image.shape[0])\n",
    "    return cv.warpAffine(image,transMat,dimensions)\n",
    "\n",
    "translated = translate(image,100,150) # 100 right and 150 down \n",
    "\n",
    "# 2. rotation\n",
    "def rotate(image,angle,rotPoint = None):\n",
    "    (height,width) = image.shape[:2]\n",
    "\n",
    "    if rotPoint is None:\n",
    "        rotPoint = (width//2,height//2)\n",
    "    rotMat  =cv.getRotationMatrix2D(rotPoint,angle,1.0)\n",
    "    dimensions = (width,height)\n",
    "    return cv.warpAffine(image,rotMat,dimensions)\n",
    "\n",
    "rotated = rotate(image,45) \n",
    "\n",
    "# 3. flipping\n",
    "flip = cv.flip(image,0) # 0 : vertically 1 : horizontally -1 : both\n",
    "\n",
    "\n",
    "# display\n",
    "# cv.imshow('Park translate',translated) \n",
    "# cv.imshow('Park rotate',rotated) \n",
    "cv.imshow('Park flip',flip) \n",
    "\n",
    "# wait time for a key to be press\n",
    "cv.waitKey(0)"
   ]
  },
  {
   "cell_type": "markdown",
   "metadata": {},
   "source": [
    "## Contour Detection"
   ]
  },
  {
   "cell_type": "code",
   "execution_count": 17,
   "metadata": {},
   "outputs": [
    {
     "name": "stdout",
     "output_type": "stream",
     "text": [
      "839 contour(s) found!\n"
     ]
    },
    {
     "data": {
      "text/plain": [
       "-1"
      ]
     },
     "execution_count": 17,
     "metadata": {},
     "output_type": "execute_result"
    }
   ],
   "source": [
    "# load image\n",
    "image = cv.imread('Resources/Photos/cats.jpg')\n",
    "\n",
    "# convert to gray\n",
    "gray = cv.cvtColor(image,cv.COLOR_BGR2GRAY)\n",
    "\n",
    "# # 2. blur (remove noise from an image)\n",
    "# blur = cv.GaussianBlur(image,ksize = (7,7),sigmaX = cv.BORDER_DEFAULT)\n",
    "\n",
    "# # grab edge\n",
    "# canny = cv.Canny(gray, 125 , 175 )\n",
    "\n",
    "# Treshold (binarize an image)\n",
    "\"\"\" Instead of blur + grab you can use threshold, but only after tried first methode\"\"\"\n",
    "ret, thresh = cv.threshold(gray, thresh = 125, maxval = 255, type = cv.THRESH_BINARY)\n",
    "\n",
    "# find contours\n",
    "contours, hierarchies =  cv.findContours(thresh,mode = cv.RETR_LIST,method = cv.CHAIN_APPROX_NONE)\n",
    "print(f'{len(contours)} contour(s) found!')\n",
    "\n",
    "# draw contours\n",
    "blank = np.zeros(image.shape, dtype='uint8')\n",
    "cv.drawContours(blank,contours = contours, contourIdx = -1, color = (0,255,0), thickness = 2) # contours index : -1 we want all \n",
    "\n",
    "# display\n",
    "cv.imshow('Cats',image) \n",
    "cv.imshow('Cats thresholded',thresh) \n",
    "cv.imshow('Cats contours',blank) \n",
    "\n",
    "# wait time for a key to be press\n",
    "cv.waitKey(0)"
   ]
  }
 ],
 "metadata": {
  "kernelspec": {
   "display_name": "Python 3.8.10 64-bit",
   "language": "python",
   "name": "python3"
  },
  "language_info": {
   "codemirror_mode": {
    "name": "ipython",
    "version": 3
   },
   "file_extension": ".py",
   "mimetype": "text/x-python",
   "name": "python",
   "nbconvert_exporter": "python",
   "pygments_lexer": "ipython3",
   "version": "3.8.10"
  },
  "orig_nbformat": 4,
  "vscode": {
   "interpreter": {
    "hash": "916dbcbb3f70747c44a77c7bcd40155683ae19c65e1c03b4aa3499c5328201f1"
   }
  }
 },
 "nbformat": 4,
 "nbformat_minor": 2
}
