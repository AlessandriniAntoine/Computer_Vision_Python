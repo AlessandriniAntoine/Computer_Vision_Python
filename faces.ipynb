{
 "cells": [
  {
   "cell_type": "markdown",
   "metadata": {},
   "source": [
    "# Faces "
   ]
  },
  {
   "cell_type": "code",
   "execution_count": 7,
   "metadata": {},
   "outputs": [],
   "source": [
    "import cv2 as cv\n",
    "import numpy as np\n",
    "import matplotlib.pyplot as plt\n",
    "import os"
   ]
  },
  {
   "cell_type": "markdown",
   "metadata": {},
   "source": [
    "## Faces decection with haar cascades\n",
    "\n",
    "Detect the presence of the face in an image\n",
    "\n",
    "\n",
    "Haar Cascade is really sensitive to noise\n",
    "\n",
    "\n",
    "Increasing scaleFactor and minNeighbors will reduce this\n",
    "\n",
    "\n",
    "Decreasing them will make easier to find "
   ]
  },
  {
   "cell_type": "code",
   "execution_count": 6,
   "metadata": {},
   "outputs": [
    {
     "name": "stdout",
     "output_type": "stream",
     "text": [
      "Number of faces found = 7\n"
     ]
    },
    {
     "data": {
      "text/plain": [
       "-1"
      ]
     },
     "execution_count": 6,
     "metadata": {},
     "output_type": "execute_result"
    }
   ],
   "source": [
    "image = cv.imread('Resources/Photos/group 2.jpg')\n",
    "gray = cv.cvtColor(image,cv.COLOR_BGR2GRAY)\n",
    "\n",
    "# haar cascade classifier\n",
    "haar_cascade = cv.CascadeClassifier('haar_face.xml')\n",
    "\n",
    "faces_rect = haar_cascade.detectMultiScale(gray,scaleFactor = 1.1, minNeighbors = 6)\n",
    "\n",
    "print(f'Number of faces found = {len(faces_rect)}') # number of faces find in the image\n",
    "\n",
    "for (x,y,w,h) in faces_rect:\n",
    "    cv.rectangle(image,(x,y),(x+w,y+h),color = (0,255,0),thickness = 2)\n",
    "\n",
    "# display\n",
    "cv.imshow('Groupe',image)  \n",
    "\n",
    "# wait time for a key to be press\n",
    "cv.waitKey(0)"
   ]
  },
  {
   "cell_type": "markdown",
   "metadata": {},
   "source": [
    "## Face Recognition with openCV built-in recognizer\n",
    "\n",
    "Identify whose face it is\n",
    "\n",
    "### Training and saving model"
   ]
  },
  {
   "cell_type": "code",
   "execution_count": 15,
   "metadata": {},
   "outputs": [
    {
     "name": "stdout",
     "output_type": "stream",
     "text": [
      "Loading training done\n",
      "length of the features = 100\n",
      "length of the labels = 100\n"
     ]
    }
   ],
   "source": [
    "# create list with all people name\n",
    "people = []\n",
    "dir = '/home/alessandrini/Documents/Formation/Python/Computer_Vision_Python/Resources/Faces/train'\n",
    "for name in os.listdir(dir):\n",
    "    people.append(name)\n",
    "\n",
    "# haar cascade classifier\n",
    "haar_cascade = cv.CascadeClassifier('haar_face.xml')\n",
    "\n",
    "features = []\n",
    "labels = []\n",
    "\n",
    "# add every image of our training set\n",
    "def create_train(folder):\n",
    "    for person in people:\n",
    "        path = os.path.join(folder,person)\n",
    "        label = people.index(person)\n",
    "        \n",
    "        for image in os.listdir(path):\n",
    "            image_path = os.path.join(path,image)\n",
    "\n",
    "            #load image\n",
    "            image_array = cv.imread(image_path)\n",
    "            gray = cv.cvtColor(image_array,cv.COLOR_BGR2GRAY)\n",
    "\n",
    "            # detect face\n",
    "            faces_rect = haar_cascade.detectMultiScale(gray,scaleFactor = 1.1, minNeighbors = 4)\n",
    "\n",
    "            for (x,y,w,h) in faces_rect:\n",
    "                faces_roi = gray[y:y+h,x:x+w]\n",
    "                features.append(faces_roi)\n",
    "                labels.append(label)\n",
    "\n",
    "create_train(dir)\n",
    "print('Loading training done')\n",
    "print(f'length of the features = {len(features)}')\n",
    "print(f'length of the labels = {len(labels)}')\n",
    "\n",
    "# initiate face recognize\n",
    "face_recognizer = cv.face.LBPHFaceRecognizer_create()\n",
    "\n",
    "# Train the recognizer on the feature and the labels (transform in np array)\n",
    "features = np.array(features,dtype='object')\n",
    "labels = np.array(labels)\n",
    "face_recognizer.train(features,labels)\n",
    "\n",
    "# save features, labels and recognizer model\n",
    "np.save('features.npy',features)\n",
    "np.save('labels.npy',labels)\n",
    "face_recognizer.save('face_trained.yml')\n",
    "\n"
   ]
  },
  {
   "cell_type": "markdown",
   "metadata": {},
   "source": [
    "### Loading and using model in an other file"
   ]
  },
  {
   "cell_type": "code",
   "execution_count": 19,
   "metadata": {},
   "outputs": [
    {
     "name": "stdout",
     "output_type": "stream",
     "text": [
      "Label = Ben Afflek with confidence of 60.069416291380506\n"
     ]
    },
    {
     "data": {
      "text/plain": [
       "-1"
      ]
     },
     "execution_count": 19,
     "metadata": {},
     "output_type": "execute_result"
    }
   ],
   "source": [
    "# haar cascade classifier\n",
    "haar_cascade = cv.CascadeClassifier('haar_face.xml')\n",
    "\n",
    "# load recognizer\n",
    "face_recognizer = cv.face.LBPHFaceRecognizer_create()\n",
    "face_recognizer.read('face_trained.yml')\n",
    "\n",
    "# create list with all people name\n",
    "people = []\n",
    "dir = '/home/alessandrini/Documents/Formation/Python/Computer_Vision_Python/Resources/Faces/train'\n",
    "for name in os.listdir(dir):\n",
    "    people.append(name)\n",
    "\n",
    "image = cv.imread('Resources/Faces/val/ben_afflek/2.jpg')\n",
    "gray = cv.cvtColor(image,cv.COLOR_BGR2GRAY)\n",
    "\n",
    "# detect the face\n",
    "faces_rect = haar_cascade.detectMultiScale(gray,scaleFactor = 1.1, minNeighbors = 4)\n",
    "for (x,y,w,h) in faces_rect:\n",
    "    faces_roi = gray[y:y+h,x:x+w]\n",
    "    label, confidence = face_recognizer.predict(faces_roi)\n",
    "\n",
    "    print(f'Label = {people[label]} with confidence of {confidence}')\n",
    "    \n",
    "    cv.putText(image,str(people[label]),(20,20),cv.FONT_HERSHEY_COMPLEX,1.0,(0,255,0),2)\n",
    "    cv.rectangle(image,(x,y),(x+w,y+h),(0,255,0),2)\n",
    "\n",
    "cv.imshow('Detected Face', image)\n",
    "cv.waitKey(0)"
   ]
  }
 ],
 "metadata": {
  "kernelspec": {
   "display_name": "Python 3.8.10 64-bit",
   "language": "python",
   "name": "python3"
  },
  "language_info": {
   "codemirror_mode": {
    "name": "ipython",
    "version": 3
   },
   "file_extension": ".py",
   "mimetype": "text/x-python",
   "name": "python",
   "nbconvert_exporter": "python",
   "pygments_lexer": "ipython3",
   "version": "3.8.10"
  },
  "orig_nbformat": 4,
  "vscode": {
   "interpreter": {
    "hash": "916dbcbb3f70747c44a77c7bcd40155683ae19c65e1c03b4aa3499c5328201f1"
   }
  }
 },
 "nbformat": 4,
 "nbformat_minor": 2
}
